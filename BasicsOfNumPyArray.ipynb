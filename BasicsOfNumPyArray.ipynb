{
 "cells": [
  {
   "cell_type": "markdown",
   "id": "afe035a2",
   "metadata": {},
   "source": [
    "Create 3 lists representing house features, each list containing 10 values. First one for squaremeter of house, second one for rooms and last one for price. Then, create an array combining these lists."
   ]
  },
  {
   "cell_type": "code",
   "execution_count": 1,
   "id": "bcb509dd",
   "metadata": {},
   "outputs": [
    {
     "name": "stdout",
     "output_type": "stream",
     "text": [
      "[[    100     150     125     142     155     178     200      95      90\n",
      "      120]\n",
      " [      3       4       3       5       5       6       7       2       2\n",
      "        3]\n",
      " [ 350000  450000  125000  360000  415000  750000 1000000 2500000  200000\n",
      "   350000]]\n"
     ]
    }
   ],
   "source": [
    "import numpy as np\n",
    "squaremeter = np.array([100,150,125,142,155,178,200,95,90,120])\n",
    "rooms = np.array([3,4,3,5,5,6,7,2,2,3])\n",
    "price = np.array([350000,450000,125000,360000,415000,750000,1000000,2500000,200000,350000])\n",
    "all_features = np.array([squaremeter,rooms,price])\n",
    "print(all_features)"
   ]
  },
  {
   "cell_type": "markdown",
   "id": "344e54c6",
   "metadata": {},
   "source": [
    "Transpose the array you have created, so that every line can represent features of one house."
   ]
  },
  {
   "cell_type": "code",
   "execution_count": 2,
   "id": "512308e4",
   "metadata": {},
   "outputs": [
    {
     "name": "stdout",
     "output_type": "stream",
     "text": [
      "[[    100       3  350000]\n",
      " [    150       4  450000]\n",
      " [    125       3  125000]\n",
      " [    142       5  360000]\n",
      " [    155       5  415000]\n",
      " [    178       6  750000]\n",
      " [    200       7 1000000]\n",
      " [     95       2 2500000]\n",
      " [     90       2  200000]\n",
      " [    120       3  350000]]\n"
     ]
    }
   ],
   "source": [
    "new_all_features= all_features.transpose()\n",
    "print(new_all_features)"
   ]
  },
  {
   "cell_type": "markdown",
   "id": "b8699afa",
   "metadata": {},
   "source": [
    "Display the shape of the array and explain what it means."
   ]
  },
  {
   "cell_type": "code",
   "execution_count": 4,
   "id": "e84da76c",
   "metadata": {},
   "outputs": [
    {
     "data": {
      "text/plain": [
       "(10, 3)"
      ]
     },
     "execution_count": 4,
     "metadata": {},
     "output_type": "execute_result"
    }
   ],
   "source": [
    "new_all_features.shape     # (10,3) olmasının sebebi 10 satır ve 3 sütun içeren 2 boyutlu bir matris olmasıdır."
   ]
  },
  {
   "cell_type": "markdown",
   "id": "82535424",
   "metadata": {},
   "source": [
    "Write a function that returns an array of ones with zeros where both row and column numbers are even. Sample array is below. Number of rows and columns will be entered as parameters."
   ]
  },
  {
   "cell_type": "code",
   "execution_count": 5,
   "id": "086832a0",
   "metadata": {},
   "outputs": [
    {
     "name": "stdout",
     "output_type": "stream",
     "text": [
      "[[1. 1. 1. 1. 1.]\n",
      " [1. 0. 1. 0. 1.]\n",
      " [1. 1. 1. 1. 1.]\n",
      " [1. 0. 1. 0. 1.]\n",
      " [1. 1. 1. 1. 1.]\n",
      " [1. 0. 1. 0. 1.]]\n"
     ]
    }
   ],
   "source": [
    "def shape_matrix(x,y):\n",
    "  a = np.ones((x,y))\n",
    "  a[1:y+1:2,1:x+1:2]=0\n",
    "  print(a)\n",
    "shape_matrix(6,5)"
   ]
  },
  {
   "cell_type": "code",
   "execution_count": null,
   "id": "ed025001",
   "metadata": {},
   "outputs": [],
   "source": []
  }
 ],
 "metadata": {
  "kernelspec": {
   "display_name": "Python 3",
   "language": "python",
   "name": "python3"
  },
  "language_info": {
   "codemirror_mode": {
    "name": "ipython",
    "version": 3
   },
   "file_extension": ".py",
   "mimetype": "text/x-python",
   "name": "python",
   "nbconvert_exporter": "python",
   "pygments_lexer": "ipython3",
   "version": "3.8.8"
  }
 },
 "nbformat": 4,
 "nbformat_minor": 5
}
